{
 "cells": [
  {
   "cell_type": "markdown",
   "id": "f4acb163-0fa9-45c3-9c53-22306c4e7ccd",
   "metadata": {},
   "source": [
    "# Photosynthesis Tutorials\n",
    "\n",
    "This is an introduction to photosynthesis analysis in PlantCV using a CropReporter image set.\n"
   ]
  },
  {
   "cell_type": "markdown",
   "id": "acc7b76a-ea72-4505-acae-35fa3578121e",
   "metadata": {},
   "source": [
    "## Tutorials\n",
    "\n",
    "* [Photosynthesis Workflow](psii_tutorial.ipynb): Analyze all frames \n",
    "* "
   ]
  },
  {
   "cell_type": "code",
   "execution_count": null,
   "id": "1188b8d4-9106-443d-ac39-6df907443a8d",
   "metadata": {},
   "outputs": [],
   "source": []
  }
 ],
 "metadata": {
  "kernelspec": {
   "display_name": "Python [conda env:plantcv] *",
   "language": "python",
   "name": "conda-env-plantcv-py"
  },
  "language_info": {
   "codemirror_mode": {
    "name": "ipython",
    "version": 3
   },
   "file_extension": ".py",
   "mimetype": "text/x-python",
   "name": "python",
   "nbconvert_exporter": "python",
   "pygments_lexer": "ipython3",
   "version": "3.8.10"
  }
 },
 "nbformat": 4,
 "nbformat_minor": 5
}
